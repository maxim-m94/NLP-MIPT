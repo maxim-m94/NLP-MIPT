{
 "cells": [
  {
   "cell_type": "code",
   "execution_count": 1,
   "metadata": {
    "collapsed": false
   },
   "outputs": [],
   "source": [
    "import pandas as pd\n",
    "import numpy as np\n",
    "from nltk.corpus import stopwords\n",
    "import nltk\n",
    "from nltk.tokenize.casual import TweetTokenizer\n",
    "from sklearn.feature_extraction.text import CountVectorizer, TfidfVectorizer\n",
    "from matplotlib import pyplot as plt\n",
    "from scipy.sparse import csr_matrix\n",
    "from nltk.collocations import *\n",
    "pd.set_option('display.max_colwidth', 200)"
   ]
  },
  {
   "cell_type": "code",
   "execution_count": 155,
   "metadata": {
    "collapsed": false
   },
   "outputs": [
    {
     "data": {
      "text/html": [
       "<div>\n",
       "<table border=\"1\" class=\"dataframe\">\n",
       "  <thead>\n",
       "    <tr style=\"text-align: right;\">\n",
       "      <th></th>\n",
       "      <th>DocNumber</th>\n",
       "      <th>MetadataSubject</th>\n",
       "      <th>MetadataTo</th>\n",
       "      <th>MetadataFrom</th>\n",
       "      <th>SenderPersonId</th>\n",
       "      <th>MetadataDateSent</th>\n",
       "      <th>MetadataDateReleased</th>\n",
       "      <th>MetadataPdfLink</th>\n",
       "      <th>MetadataCaseNumber</th>\n",
       "      <th>MetadataDocumentClass</th>\n",
       "      <th>...</th>\n",
       "      <th>ExtractedTo</th>\n",
       "      <th>ExtractedFrom</th>\n",
       "      <th>ExtractedCc</th>\n",
       "      <th>ExtractedDateSent</th>\n",
       "      <th>ExtractedCaseNumber</th>\n",
       "      <th>ExtractedDocNumber</th>\n",
       "      <th>ExtractedDateReleased</th>\n",
       "      <th>ExtractedReleaseInPartOrFull</th>\n",
       "      <th>ExtractedBodyText</th>\n",
       "      <th>RawText</th>\n",
       "    </tr>\n",
       "    <tr>\n",
       "      <th>Id</th>\n",
       "      <th></th>\n",
       "      <th></th>\n",
       "      <th></th>\n",
       "      <th></th>\n",
       "      <th></th>\n",
       "      <th></th>\n",
       "      <th></th>\n",
       "      <th></th>\n",
       "      <th></th>\n",
       "      <th></th>\n",
       "      <th></th>\n",
       "      <th></th>\n",
       "      <th></th>\n",
       "      <th></th>\n",
       "      <th></th>\n",
       "      <th></th>\n",
       "      <th></th>\n",
       "      <th></th>\n",
       "      <th></th>\n",
       "      <th></th>\n",
       "      <th></th>\n",
       "    </tr>\n",
       "  </thead>\n",
       "  <tbody>\n",
       "    <tr>\n",
       "      <th>1</th>\n",
       "      <td>C05739545</td>\n",
       "      <td>WOW</td>\n",
       "      <td>H</td>\n",
       "      <td>Sullivan, Jacob J</td>\n",
       "      <td>87</td>\n",
       "      <td>2012-09-12T04:00:00+00:00</td>\n",
       "      <td>2015-05-22T04:00:00+00:00</td>\n",
       "      <td>DOCUMENTS/HRC_Email_1_296/HRCH2/DOC_0C05739545/C05739545.pdf</td>\n",
       "      <td>F-2015-04841</td>\n",
       "      <td>HRC_Email_296</td>\n",
       "      <td>...</td>\n",
       "      <td>NaN</td>\n",
       "      <td>Sullivan, Jacob J &lt;Sullivan11@state.gov&gt;</td>\n",
       "      <td>NaN</td>\n",
       "      <td>Wednesday, September 12, 2012 10:16 AM</td>\n",
       "      <td>F-2015-04841</td>\n",
       "      <td>C05739545</td>\n",
       "      <td>05/13/2015</td>\n",
       "      <td>RELEASE IN FULL</td>\n",
       "      <td>NaN</td>\n",
       "      <td>UNCLASSIFIED\\nU.S. Department of State\\nCase No. F-2015-04841\\nDoc No. C05739545\\nDate: 05/13/2015\\nSTATE DEPT. - PRODUCED TO HOUSE SELECT BENGHAZI COMM.\\nSUBJECT TO AGREEMENT ON SENSITIVE INFORMA...</td>\n",
       "    </tr>\n",
       "  </tbody>\n",
       "</table>\n",
       "<p>1 rows × 21 columns</p>\n",
       "</div>"
      ],
      "text/plain": [
       "    DocNumber MetadataSubject MetadataTo       MetadataFrom  SenderPersonId  \\\n",
       "Id                                                                            \n",
       "1   C05739545             WOW          H  Sullivan, Jacob J              87   \n",
       "\n",
       "             MetadataDateSent       MetadataDateReleased  \\\n",
       "Id                                                         \n",
       "1   2012-09-12T04:00:00+00:00  2015-05-22T04:00:00+00:00   \n",
       "\n",
       "                                                 MetadataPdfLink  \\\n",
       "Id                                                                 \n",
       "1   DOCUMENTS/HRC_Email_1_296/HRCH2/DOC_0C05739545/C05739545.pdf   \n",
       "\n",
       "   MetadataCaseNumber MetadataDocumentClass  \\\n",
       "Id                                            \n",
       "1        F-2015-04841         HRC_Email_296   \n",
       "\n",
       "                                                                                                     ...                                                                                                     \\\n",
       "Id                                                                                                   ...                                                                                                      \n",
       "1                                                                                                    ...                                                                                                      \n",
       "\n",
       "   ExtractedTo                             ExtractedFrom ExtractedCc  \\\n",
       "Id                                                                     \n",
       "1          NaN  Sullivan, Jacob J <Sullivan11@state.gov>         NaN   \n",
       "\n",
       "                         ExtractedDateSent ExtractedCaseNumber  \\\n",
       "Id                                                               \n",
       "1   Wednesday, September 12, 2012 10:16 AM        F-2015-04841   \n",
       "\n",
       "   ExtractedDocNumber ExtractedDateReleased ExtractedReleaseInPartOrFull  \\\n",
       "Id                                                                         \n",
       "1           C05739545            05/13/2015              RELEASE IN FULL   \n",
       "\n",
       "   ExtractedBodyText  \\\n",
       "Id                     \n",
       "1                NaN   \n",
       "\n",
       "                                                                                                                                                                                                    RawText  \n",
       "Id                                                                                                                                                                                                           \n",
       "1   UNCLASSIFIED\\nU.S. Department of State\\nCase No. F-2015-04841\\nDoc No. C05739545\\nDate: 05/13/2015\\nSTATE DEPT. - PRODUCED TO HOUSE SELECT BENGHAZI COMM.\\nSUBJECT TO AGREEMENT ON SENSITIVE INFORMA...  \n",
       "\n",
       "[1 rows x 21 columns]"
      ]
     },
     "execution_count": 155,
     "metadata": {},
     "output_type": "execute_result"
    }
   ],
   "source": [
    "f = pd.read_csv(\"./hillary-clinton-emails/Emails.csv\", index_col = \"Id\")\n",
    "f[:][:1]"
   ]
  },
  {
   "cell_type": "code",
   "execution_count": 157,
   "metadata": {
    "collapsed": false
   },
   "outputs": [],
   "source": [
    "import random\n",
    "data = pd.DataFrame()\n",
    "data = f\n",
    "data = data.fillna(\"\")\n",
    "data[\"rand_row\"] = [str(random.randint(10000, 20000)) for i in xrange(len(data))]\n",
    "data[\"new_row\"] = data[\"MetadataSubject\"] + \"\\n\" + data[\"rand_row\"] + \"\\n\" +\\\n",
    "        data[\"MetadataFrom\"].astype(str) + \"\\n\" + data[\"rand_row\"] + \"\\n\" + data[\"MetadataTo\"]\\\n",
    "        + \"\\n\" + data[\"rand_row\"] + \"\\n\" + data[\"ExtractedBodyText\"]"
   ]
  },
  {
   "cell_type": "code",
   "execution_count": 158,
   "metadata": {
    "collapsed": false
   },
   "outputs": [],
   "source": [
    "def get_features(ngram_range, column_name, stop_words = None, verbose = True):\n",
    "    \n",
    "    vectorizer = TfidfVectorizer(ngram_range=ngram_range, stop_words = stop_words, analyzer=\"word\")\n",
    "    features = vectorizer.fit_transform(data[column_name])\n",
    "    \n",
    "    feature_names = np.array(vectorizer.get_feature_names())\n",
    "    feature_sum = np.array(map(int, np.matrix(csr_matrix.sum(features, axis = 0)).tolist()[0]))\n",
    "    table = pd.DataFrame()\n",
    "    table[\"names\"] = feature_names\n",
    "    table[\"sum\"] = feature_sum\n",
    "    table[\"index\"] = range(len(feature_names))\n",
    "    table = table.sort_values(by=\"sum\")[::-1]\n",
    "    if(verbose):\n",
    "        print \"ngram_range =\", ngram_range, \"stop_words = \", stop_words\n",
    "        print \"# of features=\", len(vectorizer.get_feature_names())\n",
    "        print \"\\nMost common %d-grams:\"%ngram_range[1] + \"\\n\"\n",
    "        print table[:5]\n",
    "    return table, vectorizer, features"
   ]
  },
  {
   "cell_type": "code",
   "execution_count": 159,
   "metadata": {
    "collapsed": false
   },
   "outputs": [
    {
     "name": "stdout",
     "output_type": "stream",
     "text": [
      "ngram_range = (2, 2) stop_words =  None\n",
      "# of features= 296319\n",
      "\n",
      "Most common 2-grams:\n",
      "\n",
      "                 names  sum   index\n",
      "243140       state gov  157  243140\n",
      "28624      abedin huma  126   28624\n",
      "173180    mills cheryl  121  173180\n",
      "247365  sullivan jacob   78  247365\n",
      "28648    abedinh state   59   28648\n"
     ]
    }
   ],
   "source": [
    "table, vectorizer, features = get_features((2,2), column_name=\"new_row\")"
   ]
  },
  {
   "cell_type": "code",
   "execution_count": 160,
   "metadata": {
    "collapsed": false
   },
   "outputs": [
    {
     "name": "stdout",
     "output_type": "stream",
     "text": [
      "ngram_range = (2, 2) stop_words =  english\n",
      "# of features= 271712\n",
      "\n",
      "Most common 2-grams:\n",
      "\n",
      "                 names  sum   index\n",
      "234812       state gov  178  234812\n",
      "29444      abedin huma  140   29444\n",
      "165259    mills cheryl  133  165259\n",
      "239821  sullivan jacob   87  239821\n",
      "29473    abedinh state   67   29473\n"
     ]
    }
   ],
   "source": [
    "table, vectorizer, features = get_features((2,2), column_name=\"new_row\", stop_words=\"english\")"
   ]
  },
  {
   "cell_type": "code",
   "execution_count": 90,
   "metadata": {
    "collapsed": true
   },
   "outputs": [],
   "source": [
    "column_of_data = \"new_row\""
   ]
  },
  {
   "cell_type": "code",
   "execution_count": 91,
   "metadata": {
    "collapsed": false
   },
   "outputs": [
    {
     "data": {
      "text/plain": [
       "[('\\xbf', '\\xbd'),\n",
       " ('\\xef', '\\xbf'),\n",
       " (']', '['),\n",
       " ('f', 'f'),\n",
       " ('!', '!'),\n",
       " ('z', 'z'),\n",
       " ('j', 'j'),\n",
       " ('y', '>'),\n",
       " ('q', 'u'),\n",
       " ('>', '[')]"
      ]
     },
     "execution_count": 91,
     "metadata": {},
     "output_type": "execute_result"
    }
   ],
   "source": [
    "finder = BigramCollocationFinder.from_words(\"\".join(data[column_of_data].values))\n",
    "bigram_measures = nltk.collocations.BigramAssocMeasures()\n",
    "finder.nbest(bigram_measures.pmi, 10)"
   ]
  },
  {
   "cell_type": "code",
   "execution_count": 81,
   "metadata": {
    "collapsed": true
   },
   "outputs": [],
   "source": [
    "KMeans?"
   ]
  },
  {
   "cell_type": "code",
   "execution_count": 150,
   "metadata": {
    "collapsed": false
   },
   "outputs": [
    {
     "name": "stdout",
     "output_type": "stream",
     "text": [
      "ngram_range = (2, 2) stop_words =  english\n",
      "# of features= 271683\n",
      "\n",
      "Most common 2-grams:\n",
      "\n",
      "                 names  sum   index\n",
      "234783       state gov  178  234783\n",
      "29424      abedin huma  140   29424\n",
      "165223    mills cheryl  133  165223\n",
      "239792  sullivan jacob   87  239792\n",
      "29453    abedinh state   67   29453\n",
      "\n",
      "========================== \n",
      "\n",
      "№_of_cluster, amount\n",
      "0 1286\n",
      "1 54\n",
      "2 997\n",
      "3 74\n",
      "4 2763\n",
      "5 703\n",
      "6 800\n",
      "7 502\n",
      "8 492\n",
      "9 274\n"
     ]
    }
   ],
   "source": [
    "from sklearn.cluster.hierarchical import AgglomerativeClustering\n",
    "from sklearn.cluster import KMeans\n",
    "\n",
    "\n",
    "table, vectorizer, features = get_features((2,2), column_of_data, stop_words=\"english\")\n",
    "print \"\\n\", \"==========================\", \"\\n\"\n",
    "#model = AgglomerativeClustering(n_clusters=3, affinity='euclidean', linkage='complete')\n",
    "num_clusters = 10\n",
    "model = KMeans(n_clusters=num_clusters, n_jobs=-1)\n",
    "model.fit(features)\n",
    "preds = model.predict(features)\n",
    "print \"№_of_cluster, amount\"\n",
    "for i in xrange(num_clusters):\n",
    "    print i, (preds == i).sum()"
   ]
  },
  {
   "cell_type": "code",
   "execution_count": 153,
   "metadata": {
    "collapsed": false
   },
   "outputs": [
    {
     "name": "stdout",
     "output_type": "stream",
     "text": [
      "Populating the interactive namespace from numpy and matplotlib\n"
     ]
    },
    {
     "name": "stderr",
     "output_type": "stream",
     "text": [
      "WARNING: pylab import has clobbered these variables: ['random', 'table', 'f']\n",
      "`%matplotlib` prevents importing * from pylab and numpy\n"
     ]
    }
   ],
   "source": [
    "%pylab inline"
   ]
  },
  {
   "cell_type": "code",
   "execution_count": 154,
   "metadata": {
    "collapsed": false
   },
   "outputs": [
    {
     "name": "stdout",
     "output_type": "stream",
     "text": [
      "Computing PCA projection\n"
     ]
    },
    {
     "data": {
      "image/png": "[encoded data removed]",
      "text/plain": [
       "<matplotlib.figure.Figure at 0x7f8f24b9cad0>"
      ]
     },
     "metadata": {},
     "output_type": "display_data"
    }
   ],
   "source": [
    "from time import time\n",
    "\n",
    "import numpy as np\n",
    "import matplotlib.pyplot as plt\n",
    "from matplotlib import offsetbox\n",
    "from sklearn import (manifold, datasets, decomposition, ensemble,\n",
    "                     discriminant_analysis, random_projection)\n",
    "\n",
    "X = features\n",
    "y = preds\n",
    "n_samples, n_features = features.shape\n",
    "n_neighbors = 30\n",
    "def plot_embedding(X, title=None):\n",
    "    x_min, x_max = np.min(X, 0), np.max(X, 0)\n",
    "    X = (X - x_min) / (x_max - x_min)\n",
    "\n",
    "    plt.figure(figsize=(15,7))\n",
    "    ax = plt.subplot(111)\n",
    "    for i in range(X.shape[0]):\n",
    "        color = y[i] * 1.0 / num_clusters\n",
    "        plt.text(X[i, 0], X[i, 1], str(y[i]),\n",
    "                 color=plt.cm.Set1(color),\n",
    "                 fontdict={'weight': 'bold', 'size': 9})\n",
    "    plt.xticks([]), plt.yticks([])\n",
    "    if title is not None:\n",
    "        plt.title(title)\n",
    "\n",
    "        \n",
    "        \n",
    "print(\"Computing PCA projection\")\n",
    "t0 = time()\n",
    "X_pca = decomposition.TruncatedSVD(n_components=2).fit_transform(X)\n",
    "plot_embedding(X_pca,\n",
    "               \"Principal Components projection of the digits (time %.2fs)\" %\n",
    "               (time() - t0))\n",
    "\n",
    "plt.show()"
   ]
  },
  {
   "cell_type": "markdown",
   "metadata": {},
   "source": [
    "никакой другой embedding у меня просто не посчитался"
   ]
  },
  {
   "cell_type": "code",
   "execution_count": null,
   "metadata": {
    "collapsed": true
   },
   "outputs": [],
   "source": []
  },
  {
   "cell_type": "code",
   "execution_count": 152,
   "metadata": {
    "collapsed": false,
    "scrolled": false
   },
   "outputs": [
    {
     "name": "stdout",
     "output_type": "stream",
     "text": [
      "closest e-mail for each cluster\n",
      "format:Subject FROM TO\n",
      "Here we are:\n",
      "===========================================================\n",
      " cluster #0\n",
      "\n",
      "['DONE' 'Abedin, Huma' 'H' '']\n",
      "\n",
      "===================\n",
      "\n",
      "['FOR ' 'Abedin, Huma' 'H' '']\n",
      "\n",
      "===================\n",
      "\n",
      "['HOLBROOKE ASKING TO TALK TO YOU.' 'Abedin, Huma' 'H' '']\n",
      "\n",
      "===================\n",
      "===========================================================\n",
      " cluster #1\n",
      "\n",
      "['CGI DRAFT V3 092212.DOCX' 'Sullivan, Jacob J' 'H' 'B5']\n",
      "\n",
      "===================\n",
      "\n",
      "['SPEECH DRAFT FOR FRIDAY AT CSIS' 'Schwerin, Daniel B' 'H'\n",
      " \"Madam Secretary, here is our latest draft of Friday's speech. It's long \\xe2\\x80\\x94 about 30 minutes in this version \\xe2\\x80\\x94 but if\"]\n",
      "\n",
      "===================\n",
      "\n",
      "['BENHAZI/PROTEST STATEMENTS' 'Sullivan, Jacob J' 'H'\n",
      " 'Attached is full compilation. You never said spontaneous or characterized the motives. in fact you were careful in your']\n",
      "\n",
      "===================\n",
      "===========================================================\n",
      " cluster #2\n",
      "\n",
      "['FWD:' 'Mills, Cheryl' 'Mills, Cheryl' 'FYI']\n",
      "\n",
      "===================\n",
      "\n",
      "['ISSA PLANS HUNDREDS OF HEARINGS' 'Mills, Cheryl D' 'Mills, Cheryl D'\n",
      " 'Mills, Cheryl D <MillsCD@state.gov>']\n",
      "\n",
      "===================\n",
      "\n",
      "['WYNN RESORTS AS SPONSOR' 'Mills, Cheryl D' 'H'\n",
      " 'Mills, Cheryl D <MillsCD@state.gov>']\n",
      "\n",
      "===================\n",
      "===========================================================\n",
      " cluster #3\n",
      "\n",
      "['MINI SCHEDULE 8/17/10 TUESDAY' 'Jiloty, Lauren C' 'H'\n",
      " '8:15 am DEPART Private Residence']\n",
      "\n",
      "===================\n",
      "\n",
      "['MINI SCHEDULE, THURSDAY MAY 21ST' 'Jiloty, Lauren C' 'H'\n",
      " '8:15 am DEPART Private Residence']\n",
      "\n",
      "===================\n",
      "\n",
      "['MINI SCHEDULE 8/4/10 WEDNESDAY' 'JilotyLC@state.gov' 'H'\n",
      " '8:15 am DEPART Private Residence']\n",
      "\n",
      "===================\n",
      "===========================================================\n",
      " cluster #4\n",
      "\n",
      "['SCHEDULE' 'Valmoro, Lona J' 'H' 'Will do.']\n",
      "\n",
      "===================\n",
      "\n",
      "['MINI SCHEDULE 9/3/10 FRIDAY' 'Valmoro, Lona J' 'H' 'Will do.']\n",
      "\n",
      "===================\n",
      "\n",
      "['OSCAR/NAVY' 'Valmoro, Lona J' 'H' 'Will do.']\n",
      "\n",
      "===================\n",
      "===========================================================\n",
      " cluster #5\n",
      "\n",
      "['RE:' 'Sullivan, Jacob J' 'H' 'Will do.']\n",
      "\n",
      "===================\n",
      "\n",
      "['' 'Sullivan, Jacob J' 'H' 'Cc:']\n",
      "\n",
      "===================\n",
      "\n",
      "['RE:' 'Sullivan, Jacob J' 'H' 'Will do.']\n",
      "\n",
      "===================\n",
      "===========================================================\n",
      " cluster #6\n",
      "\n",
      "['RE:' 'H' 'reinesp@state.gov' 'H <hrod17@clintonemail.com>']\n",
      "\n",
      "===================\n",
      "\n",
      "['IRAN' 'H' 'sullivanjj@state.gov' 'H <hrod17@clintonemail.com>']\n",
      "\n",
      "===================\n",
      "\n",
      "['RE:' 'H' 'reinesp@state.gov' 'H <hrod17@clintonemail.com>']\n",
      "\n",
      "===================\n",
      "===========================================================\n",
      " cluster #7\n",
      "\n",
      "['' 'MillsCD@state.gov' 'H' 'Mills, Cheryl D <MillsCD@state.gov>']\n",
      "\n",
      "===================\n",
      "\n",
      "['THANKS' 'MillsCD@state.gov' 'H' 'Fyi']\n",
      "\n",
      "===================\n",
      "\n",
      "['RE:' 'H' 'millscd@state.gov' 'H <hrod17@clintonemail.com>']\n",
      "\n",
      "===================\n",
      "===========================================================\n",
      " cluster #8\n",
      "\n",
      "['FOR HRC' 'H' 'abedinh@state.gov' 'H <hrod17@clintonemail.com>']\n",
      "\n",
      "===================\n",
      "\n",
      "['' 'AbedinH@state.gov' 'H' 'Abedin, Huma <AbedinH@state.gov>']\n",
      "\n",
      "===================\n",
      "\n",
      "['HOLBROOKE CALLED FOR YOU' 'AbedinH@state.gov' 'H' 'Will do']\n",
      "\n",
      "===================\n",
      "===========================================================\n",
      " cluster #9\n",
      "\n",
      "['ALSO, I MAY NEVER HAVE MENTIONED...' 'H' 'JilotyLC@state.gov'\n",
      " 'Pls print.']\n",
      "\n",
      "===================\n",
      "\n",
      "['THANK YOU' 'H' 'JilotyLC@state.gov' 'Pls print.']\n",
      "\n",
      "===================\n",
      "\n",
      "['HI' 'H' 'JilotyLC@state.gov' 'Pls print.']\n",
      "\n",
      "===================\n"
     ]
    }
   ],
   "source": [
    "distances = pd.DataFrame(model.transform(features))\n",
    "print \"closest e-mail for each cluster\"\n",
    "print \"format:Subject FROM TO\\nHere we are:\"\n",
    "amount_of_best_to_print = 3\n",
    "for i in xrange(num_clusters):\n",
    "    cur_best = distances[distances.columns[i]][preds == i].sort_values(distances.columns[0])\n",
    "    best_i = cur_best.index[:amount_of_best_to_print]\n",
    "    print \"===========================================================\\n cluster #%d\"%i\n",
    "    for j in xrange(min(amount_of_best_to_print, len(cur_best))):\n",
    "        arr = np.array(data[column_of_data].iloc[best_i[j]].split(\"\\n\"))\n",
    "        if(len(arr) >= 7):\n",
    "            print \"\\n\", arr[[0,2,4,6]]\n",
    "        else:\n",
    "            print \"\\n\", arr\n",
    "        print \"\\n===================\""
   ]
  },
  {
   "cell_type": "markdown",
   "metadata": {},
   "source": [
    "Итог работы: В качестве данных я решил взять три поля - subject,from,to,bodyText. Я пробовал разные варианты - сырой текст, только тело письма, разные комбинации, получалось по ощущениям хуже, hfзбиение по классам было очень неравномерно. В итоге остановился на этом, как на довольно показательной комбинации. AgglomerativeClustering у меня не посчитался, очень долго, оставил KMeans. Число кластеров выбрал так, чтобы каждый был довольно представительным, в остальном более-менее случайно. В качестве иллюстрации вывожу проекцию на полскость с помощью pca, в принципе, видно, что довольно неплохо они кластеризованы, так же вывожу несколько самых близких объектов к центрам каждого класса. Как правило, у них совпадают получатели/отправители, но один раз я натыкался на письма по аргентине. Здесь смена CountVectorizer на TfIdfVectorizer ничего не меняет. В принципе, достаточно интерпретируемые результаты, ожно жалко - что сгруппировались больше по мета-даным, нежели чем по сути писем. Да, с коллокацией биграмм я чего-то не разобрался, я так понял, он мне коллокацию символов выводит сейчас."
   ]
  }
 ],
 "metadata": {
  "kernelspec": {
   "display_name": "Python 2",
   "language": "python",
   "name": "python2"
  },
  "language_info": {
   "codemirror_mode": {
    "name": "ipython",
    "version": 2
   },
   "file_extension": ".py",
   "mimetype": "text/x-python",
   "name": "python",
   "nbconvert_exporter": "python",
   "pygments_lexer": "ipython2",
   "version": "2.7.12"
  }
 },
 "nbformat": 4,
 "nbformat_minor": 0
}
